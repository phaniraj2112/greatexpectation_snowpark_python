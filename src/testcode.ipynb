{
 "cells": [
  {
   "cell_type": "code",
   "execution_count": 5,
   "id": "b85cc505-fe7e-4a6a-bf99-fe731b057fc2",
   "metadata": {},
   "outputs": [
    {
     "name": "stdout",
     "output_type": "stream",
     "text": [
      "(0, 7, 0)\n"
     ]
    }
   ],
   "source": [
    "from snowflake.snowpark.session import Session\n",
    "from snowflake.snowpark.functions import udf, avg, col,lit,call_udf,countDistinct,sproc,udf\n",
    "from snowflake.snowpark.types import IntegerType, FloatType, StringType, BooleanType\n",
    "import pandas as pd\n",
    "\n",
    "import sys\n",
    "import json\n",
    "import platform\n",
    "import os,requests\n",
    "from pathlib import Path\n",
    "import glob\n",
    "\n",
    "from configs.config import snowflake_conn_prop_local as snowflake_conn_prop\n",
    "\n",
    "from snowflake.snowpark import version\n",
    "print(version.VERSION)\n",
    "session = Session.builder.configs(snowflake_conn_prop).create()\n"
   ]
  },
  {
   "cell_type": "code",
   "execution_count": 6,
   "id": "6eb5a088-bcc8-4933-a3bd-941e1ee1197d",
   "metadata": {},
   "outputs": [
    {
     "name": "stderr",
     "output_type": "stream",
     "text": [
      "/Users/praj/Documents/Personal/learn/GreatExpectation/testpandas/great_expectations/datasource/data_connector/runtime_data_connector.py:133: DeprecationWarning: Specifying batch_identifiers as part of the RuntimeDataConnector config is deprecated as of v0.15.1 and will be removed by v0.18. Please configure batch_identifiers as part of Assets instead.\n",
      "  warnings.warn(\n"
     ]
    },
    {
     "data": {
      "text/plain": [
       "{\n",
       "  \"anonymous_usage_statistics\": {\n",
       "    \"explicit_id\": true,\n",
       "    \"data_context_id\": \"f84266ef-6a12-4252-b185-ba314850f614\",\n",
       "    \"usage_statistics_url\": \"https://stats.greatexpectations.io/great_expectations/v1/usage_statistics\",\n",
       "    \"enabled\": true,\n",
       "    \"explicit_url\": false\n",
       "  },\n",
       "  \"checkpoint_store_name\": \"checkpoint_store\",\n",
       "  \"config_version\": 3,\n",
       "  \"data_docs_sites\": {\n",
       "    \"local_site\": {\n",
       "      \"class_name\": \"SiteBuilder\",\n",
       "      \"show_how_to_buttons\": true,\n",
       "      \"store_backend\": {\n",
       "        \"class_name\": \"TupleFilesystemStoreBackend\",\n",
       "        \"base_directory\": \"uncommitted/data_docs/local_site/\",\n",
       "        \"root_directory\": \"/tmp/great_expectation\"\n",
       "      },\n",
       "      \"site_index_builder\": {\n",
       "        \"class_name\": \"DefaultSiteIndexBuilder\"\n",
       "      }\n",
       "    }\n",
       "  },\n",
       "  \"datasources\": {\n",
       "    \"dataframe_datasource\": {\n",
       "      \"module_name\": \"great_expectations.datasource\",\n",
       "      \"batch_kwargs_generators\": {\n",
       "        \"subdir_reader\": {\n",
       "          \"class_name\": \"SubdirReaderBatchKwargsGenerator\",\n",
       "          \"base_directory\": \"/tmp/great_expectation/\"\n",
       "        }\n",
       "      },\n",
       "      \"class_name\": \"PandasDatasource\",\n",
       "      \"data_asset_type\": {\n",
       "        \"class_name\": \"PandasDataset\",\n",
       "        \"module_name\": \"great_expectations.dataset\"\n",
       "      }\n",
       "    },\n",
       "    \"taxi_pandas_dataframe\": {\n",
       "      \"module_name\": \"great_expectations.datasource\",\n",
       "      \"class_name\": \"Datasource\",\n",
       "      \"execution_engine\": {\n",
       "        \"module_name\": \"great_expectations.execution_engine\",\n",
       "        \"class_name\": \"PandasExecutionEngine\"\n",
       "      },\n",
       "      \"data_connectors\": {\n",
       "        \"default_runtime_data_connector_name\": {\n",
       "          \"batch_identifiers\": [\n",
       "            \"default_identifier_name\"\n",
       "          ],\n",
       "          \"module_name\": \"great_expectations.datasource.data_connector\",\n",
       "          \"class_name\": \"RuntimeDataConnector\"\n",
       "        }\n",
       "      }\n",
       "    }\n",
       "  },\n",
       "  \"evaluation_parameter_store_name\": \"evaluation_parameter_store\",\n",
       "  \"expectations_store_name\": \"expectations_store\",\n",
       "  \"profiler_store_name\": \"profiler_store\",\n",
       "  \"stores\": {\n",
       "    \"expectations_store\": {\n",
       "      \"class_name\": \"ExpectationsStore\",\n",
       "      \"store_backend\": {\n",
       "        \"class_name\": \"TupleFilesystemStoreBackend\",\n",
       "        \"base_directory\": \"expectations/\",\n",
       "        \"root_directory\": \"/tmp/great_expectation\"\n",
       "      }\n",
       "    },\n",
       "    \"validations_store\": {\n",
       "      \"class_name\": \"ValidationsStore\",\n",
       "      \"store_backend\": {\n",
       "        \"class_name\": \"TupleFilesystemStoreBackend\",\n",
       "        \"base_directory\": \"uncommitted/validations/\",\n",
       "        \"root_directory\": \"/tmp/great_expectation\"\n",
       "      }\n",
       "    },\n",
       "    \"evaluation_parameter_store\": {\n",
       "      \"class_name\": \"EvaluationParameterStore\"\n",
       "    },\n",
       "    \"checkpoint_store\": {\n",
       "      \"class_name\": \"CheckpointStore\",\n",
       "      \"store_backend\": {\n",
       "        \"class_name\": \"TupleFilesystemStoreBackend\",\n",
       "        \"suppress_store_backend_id\": true,\n",
       "        \"base_directory\": \"checkpoints/\",\n",
       "        \"root_directory\": \"/tmp/great_expectation\"\n",
       "      }\n",
       "    },\n",
       "    \"profiler_store\": {\n",
       "      \"class_name\": \"ProfilerStore\",\n",
       "      \"store_backend\": {\n",
       "        \"class_name\": \"TupleFilesystemStoreBackend\",\n",
       "        \"suppress_store_backend_id\": true,\n",
       "        \"base_directory\": \"profilers/\",\n",
       "        \"root_directory\": \"/tmp/great_expectation\"\n",
       "      }\n",
       "    }\n",
       "  },\n",
       "  \"validations_store_name\": \"validations_store\"\n",
       "}"
      ]
     },
     "execution_count": 6,
     "metadata": {},
     "output_type": "execute_result"
    }
   ],
   "source": [
    "import pandas as pd\n",
    "\n",
    "import sys\n",
    "import json\n",
    "import platform\n",
    "import os,requests\n",
    "from pathlib import Path\n",
    "import glob\n",
    "\n",
    "from configs.config import snowflake_conn_prop_local as snowflake_conn_prop\n",
    "        \n",
    "from src.DataValidationContext import GEDataValidationContext\n",
    "from src.BatchRequest import getBatchRequest \n",
    "from src.Expectations import  createExpectationSuite, createExpectations\n",
    "from src.RunLoadExpectations import runExpectaionValidation,loadValidationToDB\n",
    "\n",
    "datasourcename='taxi_pandas_dataframe'\n",
    "ge=GEDataValidationContext(datasourcename)\n",
    "context=ge.getContext()\n",
    "context\n",
    "\n",
    "\n",
    "    "
   ]
  },
  {
   "cell_type": "code",
   "execution_count": 7,
   "id": "11a6bf55-bc02-43d7-8388-8be3f8b71efa",
   "metadata": {},
   "outputs": [],
   "source": [
    "# from great_expectations.data_context import BaseDataContext\n",
    "# from great_expectations.data_context.types.base import DataContextConfig, DatasourceConfig, FilesystemStoreBackendDefaults\n",
    "# from great_expectations.core.batch import BatchRequest, RuntimeBatchRequest\n",
    "# from src.DataValidationContext import GEDataValidationContext\n",
    "\n",
    "# def getBatchRequest(datasourcename,pandasDF):\n",
    "\n",
    "#     context=GEDataValidationContext(datasourcename)\n",
    "#     # print(context.getContext())\n",
    "\n",
    "#     #Creating the batch request which will be used while running the checkpoint\n",
    "#     batch_request = RuntimeBatchRequest(\n",
    "#                                 datasource_name=datasourcename,\n",
    "#                                     data_connector_name=\"default_runtime_data_connector_name\",\n",
    "#                                     data_asset_name=\"PandasData\",  # This can be anything that identifies this data_asset for you\n",
    "#                                     runtime_parameters={\"batch_data\": pandasDF},  # df is your dataframe, you have created above.\n",
    "#                                     batch_identifiers={\"default_identifier_name\": f'default_identifier_{datasourcename}'},\n",
    "#                                     )\n",
    "#     return batch_request\n",
    "\n"
   ]
  },
  {
   "cell_type": "code",
   "execution_count": 8,
   "id": "63faf56f-e5ee-48f1-a0b5-e99ebd427fde",
   "metadata": {},
   "outputs": [],
   "source": [
    "# df=''\n",
    "# datasourcename='taxi'\n",
    "# batch=getBatchRequest(datasourcename,df)\n",
    "# batch"
   ]
  },
  {
   "cell_type": "code",
   "execution_count": 9,
   "id": "9ed713a3-3a54-4697-8df2-c49d69250ed6",
   "metadata": {},
   "outputs": [],
   "source": [
    "\n",
    "pd_df=session.sql(\"select top 2000 * from TAXI_TRIPS_MAT_VIEW\").to_pandas()\n",
    "\n"
   ]
  },
  {
   "cell_type": "code",
   "execution_count": 10,
   "id": "25cf162a-31b8-4c3d-9bf5-beeab5b258b4",
   "metadata": {},
   "outputs": [],
   "source": [
    "local_batch_request=getBatchRequest(context,datasourcename,pd_df)"
   ]
  },
  {
   "cell_type": "code",
   "execution_count": 11,
   "id": "074725d3-381e-4521-bc55-1389c9f49d89",
   "metadata": {},
   "outputs": [
    {
     "data": {
      "text/plain": [
       "{\n",
       "  \"datasource_name\": \"taxi_pandas_dataframe\",\n",
       "  \"data_connector_name\": \"default_runtime_data_connector_name\",\n",
       "  \"data_asset_name\": \"PandasData\",\n",
       "  \"runtime_parameters\": {\n",
       "    \"batch_data\": \"<class 'pandas.core.frame.DataFrame'>\"\n",
       "  },\n",
       "  \"batch_identifiers\": {\n",
       "    \"default_identifier_name\": \"default_identifier_taxi_pandas_dataframe\"\n",
       "  }\n",
       "}"
      ]
     },
     "execution_count": 11,
     "metadata": {},
     "output_type": "execute_result"
    }
   ],
   "source": [
    "local_batch_request"
   ]
  },
  {
   "cell_type": "code",
   "execution_count": null,
   "id": "1525babf-0c85-4204-813d-e9933ea8d483",
   "metadata": {},
   "outputs": [],
   "source": []
  },
  {
   "cell_type": "code",
   "execution_count": 12,
   "id": "7272775a-5e07-47a4-80e1-19065f36c128",
   "metadata": {},
   "outputs": [],
   "source": [
    "createExpectationSuite(context,\"demoExp\")"
   ]
  },
  {
   "cell_type": "code",
   "execution_count": 13,
   "id": "35e11bba-a42d-430b-9476-d56e8fc64d8c",
   "metadata": {},
   "outputs": [],
   "source": [
    "# context.create_expectation_suite(\n",
    "#     expectation_suite_name='test_exp', overwrite_existing=True)"
   ]
  },
  {
   "cell_type": "code",
   "execution_count": 14,
   "id": "f62eff59-8306-497b-9803-f1ce8bbecfc9",
   "metadata": {},
   "outputs": [
    {
     "name": "stderr",
     "output_type": "stream",
     "text": [
      "Calculating Metrics: 100%|██████████████████████████████████████████████████████████████████████████████████████████████████████████████████| 8/8 [00:00<00:00, 219.67it/s]\n",
      "Calculating Metrics: 100%|██████████████████████████████████████████████████████████████████████████████████████████████████████████████████| 4/4 [00:00<00:00, 362.32it/s]\n",
      "Calculating Metrics: 100%|██████████████████████████████████████████████████████████████████████████████████████████████████████████████████| 4/4 [00:00<00:00, 382.05it/s]\n"
     ]
    }
   ],
   "source": [
    "# createExpectations(context,suitename,local_batch_request,pandasdataframe):\n",
    "createExpectations(context,\"demoExp\",local_batch_request,pd_df)"
   ]
  },
  {
   "cell_type": "code",
   "execution_count": null,
   "id": "60f6bf6a-aa87-4a7d-aa66-a1551743a878",
   "metadata": {},
   "outputs": [],
   "source": []
  },
  {
   "cell_type": "code",
   "execution_count": 15,
   "id": "09325796-19e5-45ba-8d7b-2bd582c82b5b",
   "metadata": {},
   "outputs": [
    {
     "name": "stderr",
     "output_type": "stream",
     "text": [
      "Calculating Metrics: 100%|████████████████████████████████████████████████████████████████████████████████████████████████████████████████| 10/10 [00:00<00:00, 317.92it/s]\n"
     ]
    }
   ],
   "source": [
    "res=runExpectaionValidation(context,\"PandasCheckpoint\",local_batch_request,\"demoExp\",datasourcename)"
   ]
  },
  {
   "cell_type": "code",
   "execution_count": 16,
   "id": "174eeef0-8de6-4087-ba21-962557a027b9",
   "metadata": {},
   "outputs": [
    {
     "name": "stdout",
     "output_type": "stream",
     "text": [
      " Loaded Validation Results...\n"
     ]
    }
   ],
   "source": [
    "loadValidationToDB(session,res,\"TestLoadGEValidation\")"
   ]
  },
  {
   "cell_type": "code",
   "execution_count": null,
   "id": "8c649502-b536-4e38-b9d0-75ed6712eab1",
   "metadata": {},
   "outputs": [],
   "source": []
  }
 ],
 "metadata": {
  "kernelspec": {
   "display_name": "Python 3 (ipykernel)",
   "language": "python",
   "name": "python3"
  },
  "language_info": {
   "codemirror_mode": {
    "name": "ipython",
    "version": 3
   },
   "file_extension": ".py",
   "mimetype": "text/x-python",
   "name": "python",
   "nbconvert_exporter": "python",
   "pygments_lexer": "ipython3",
   "version": "3.8.13"
  }
 },
 "nbformat": 4,
 "nbformat_minor": 5
}
