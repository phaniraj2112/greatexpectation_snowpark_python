{
 "cells": [
  {
   "cell_type": "code",
   "execution_count": 1,
   "id": "b85cc505-fe7e-4a6a-bf99-fe731b057fc2",
   "metadata": {},
   "outputs": [
    {
     "name": "stdout",
     "output_type": "stream",
     "text": [
      "file\n",
      "(0, 7, 0)\n"
     ]
    }
   ],
   "source": [
    "from snowflake.snowpark.session import Session\n",
    "from snowflake.snowpark.functions import udf, avg, col,lit,call_udf,countDistinct,sproc,udf\n",
    "from snowflake.snowpark.types import IntegerType, FloatType, StringType, BooleanType\n",
    "import pandas as pd\n",
    "\n",
    "import sys\n",
    "import json\n",
    "import platform\n",
    "import os,requests\n",
    "from pathlib import Path\n",
    "import glob\n",
    "\n",
    "from configs.config import snowflake_conn_prop_local as snowflake_conn_prop\n",
    "\n",
    "from snowflake.snowpark import version\n",
    "print(version.VERSION)\n",
    "session = Session.builder.configs(snowflake_conn_prop).create()\n"
   ]
  },
  {
   "cell_type": "code",
   "execution_count": 2,
   "id": "6eb5a088-bcc8-4933-a3bd-941e1ee1197d",
   "metadata": {},
   "outputs": [
    {
     "ename": "IndentationError",
     "evalue": "expected an indented block (4206977119.py, line 28)",
     "output_type": "error",
     "traceback": [
      "\u001b[0;36m  Input \u001b[0;32mIn [2]\u001b[0;36m\u001b[0m\n\u001b[0;31m    context=DataValidationContext('taxi_pandas_dataframe')\u001b[0m\n\u001b[0m    ^\u001b[0m\n\u001b[0;31mIndentationError\u001b[0m\u001b[0;31m:\u001b[0m expected an indented block\n"
     ]
    }
   ],
   "source": [
    "import pandas as pd\n",
    "\n",
    "import sys\n",
    "import json\n",
    "import platform\n",
    "import os,requests\n",
    "from pathlib import Path\n",
    "import glob\n",
    "\n",
    "from configs.config import snowflake_conn_prop_local as snowflake_conn_prop\n",
    "        \n",
    "        \n",
    "from great_expectations.data_context.types.base import DataContextConfig, DatasourceConfig, S3StoreBackendDefaults\n",
    "from config import snowflake_conn_prop_local as snowflake_udf_conn_prop\n",
    "from great_expectations.core.batch import BatchRequest, RuntimeBatchRequest\n",
    "from great_expectations.data_context import BaseDataContext\n",
    "from snowflake.snowpark.types import IntegerType, StringType, StructField,VariantType,StructType,BooleanType\n",
    "from great_expectations.checkpoint.types.checkpoint_result import CheckpointResult\n",
    "from great_expectations.data_context import DataContext\n",
    "from config import snowflake_conn_prop_local as snowflake_conn_prop\n",
    "from great_expectations.data_context import BaseDataContext\n",
    "from great_expectations.data_context.types.base import DataContextConfig, DatasourceConfig, FilesystemStoreBackendDefaults\n",
    "from great_expectations.checkpoint import Checkpoint\n",
    "\n",
    "from src.DataValidationContext import getContext\n",
    "\n",
    "\n",
    "context=DataValidationContext('taxi_pandas_dataframe')\n",
    "print(context)\n",
    "\n",
    "    "
   ]
  },
  {
   "cell_type": "code",
   "execution_count": null,
   "id": "11a6bf55-bc02-43d7-8388-8be3f8b71efa",
   "metadata": {},
   "outputs": [],
   "source": []
  }
 ],
 "metadata": {
  "kernelspec": {
   "display_name": "Python 3 (ipykernel)",
   "language": "python",
   "name": "python3"
  },
  "language_info": {
   "codemirror_mode": {
    "name": "ipython",
    "version": 3
   },
   "file_extension": ".py",
   "mimetype": "text/x-python",
   "name": "python",
   "nbconvert_exporter": "python",
   "pygments_lexer": "ipython3",
   "version": "3.8.13"
  }
 },
 "nbformat": 4,
 "nbformat_minor": 5
}
